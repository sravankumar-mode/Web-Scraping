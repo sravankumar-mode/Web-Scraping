{
 "cells": [
  {
   "cell_type": "code",
   "execution_count": 1,
   "metadata": {},
   "outputs": [],
   "source": [
    "#importing required libraries\n",
    "import pandas as pd"
   ]
  },
  {
   "cell_type": "code",
   "execution_count": 2,
   "metadata": {},
   "outputs": [],
   "source": [
    "#import ABC module\n",
    "from abc import ABC, abstractmethod\n",
    " \n",
    "class data_lake(ABC):\n",
    " \n",
    "    @abstractmethod\n",
    "    def given_keyword(self):\n",
    "        pass"
   ]
  },
  {
   "cell_type": "code",
   "execution_count": 3,
   "metadata": {},
   "outputs": [],
   "source": [
    "# creating a class which takes keyword as an input and returns the data in a dataframe\n",
    "\n",
    "class data(data_lake):\n",
    "    def given_keyword(keyword):\n",
    "        \n",
    "        #url with api key\n",
    "        url = 'https://newsapi.org/v2/everything?q='+keyword+'&pageSize=100&apiKey=fb5d0f6add8e4c9cb66187243cc3f9da'\n",
    "        \n",
    "        # we will be getting the data in json format, so we will be storing this data in a data frame to work.\n",
    "        df = pd.read_json(url)\n",
    "        \n",
    "        # creating a new data frame\n",
    "        new = df['articles']\n",
    "        new = pd.DataFrame(new)\n",
    "        \n",
    "        # inserting new columns \n",
    "        new.insert(1,'source_id','')\n",
    "        new.insert(2,'source_name','')\n",
    "        new.insert(3,'author','')\n",
    "        new.insert(4,'title','')\n",
    "        new.insert(5,'description','')\n",
    "        new.insert(6,'url','')\n",
    "        new.insert(7,'url_to_image','')\n",
    "        new.insert(8,'published_at','')\n",
    "        new.insert(9,'content','')\n",
    "        \n",
    "        # inserting keyword\n",
    "        new.insert(10,'key_word',keyword)\n",
    "        \n",
    "        # filling the blank spaces(in newly inserted columns) in each row by iterating through the new dataframe\n",
    "        for ind in new.index:\n",
    "            new['source_id'][ind] = new['articles'][ind]['source']['id']\n",
    "            new['source_name'][ind] = new['articles'][ind]['source']['name']\n",
    "            new['author'][ind] = new['articles'][ind]['author']\n",
    "            new['title'][ind] = new['articles'][ind]['title']\n",
    "            new['description'][ind] = new['articles'][ind]['description']\n",
    "            new['url'][ind] = new['articles'][ind]['url']\n",
    "            new['url_to_image'][ind] = new['articles'][ind]['urlToImage']\n",
    "            new['published_at'][ind] = new['articles'][ind]['publishedAt']\n",
    "            new['content'][ind] = new['articles'][ind]['content']  \n",
    "        \n",
    "        # dropping the 'articles' column\n",
    "        new = new.drop(['articles'],axis=1)\n",
    "        \n",
    "        return new"
   ]
  },
  {
   "cell_type": "code",
   "execution_count": 4,
   "metadata": {},
   "outputs": [],
   "source": [
    "# keywords\n",
    "keywords = ['india','america','dhoni','cricket','dance','virat','modi','sports','education','entertainment','football',\n",
    "           'facebook','instagram','google','tcs','hcl','sensex','farmers','movies','english','language']\n"
   ]
  },
  {
   "cell_type": "code",
   "execution_count": 7,
   "metadata": {},
   "outputs": [],
   "source": [
    "# creating an empty dataframe\n",
    "final_df = pd.DataFrame()\n",
    "\n",
    "# iterating through all keywords\n",
    "for i in range(len(keywords)):\n",
    "    final_df = final_df.append(data.given_keyword(keywords[i]))\n",
    "    \n",
    "# dropping all the rows which are having null values\n",
    "new_df = final_df.dropna(axis =0)\n",
    "new_df.reset_index(drop=True, inplace=True)"
   ]
  },
  {
   "cell_type": "code",
   "execution_count": 8,
   "metadata": {},
   "outputs": [],
   "source": [
    "# storing the data in csv format\n",
    "\n",
    "new_df.to_csv('updated_news.csv')"
   ]
  },
  {
   "cell_type": "code",
   "execution_count": null,
   "metadata": {},
   "outputs": [],
   "source": []
  }
 ],
 "metadata": {
  "kernelspec": {
   "display_name": "Python 3",
   "language": "python",
   "name": "python3"
  },
  "language_info": {
   "codemirror_mode": {
    "name": "ipython",
    "version": 3
   },
   "file_extension": ".py",
   "mimetype": "text/x-python",
   "name": "python",
   "nbconvert_exporter": "python",
   "pygments_lexer": "ipython3",
   "version": "3.8.3"
  }
 },
 "nbformat": 4,
 "nbformat_minor": 4
}
