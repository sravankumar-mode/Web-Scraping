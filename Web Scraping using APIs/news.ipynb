{
 "cells": [
  {
   "cell_type": "code",
   "execution_count": 1,
   "metadata": {},
   "outputs": [],
   "source": [
    "#importing required libraries\n",
    "import requests\n",
    "import json\n",
    "import pandas as pd"
   ]
  },
  {
   "cell_type": "code",
   "execution_count": 2,
   "metadata": {},
   "outputs": [],
   "source": [
    "# keywords\n",
    "keywords = ['india','america','dhoni','cricket','dance','virat','modi','sports','education','entertainment','football',\n",
    "           'facebook','instagram','google','tcs','hcl','sensex','farmers','movies','english','language']\n",
    "\n",
    "# urls with respect to keywords\n",
    "urls = ['https://newsapi.org/v2/everything?q=india&pageSize=100&apiKey=fb5d0f6add8e4c9cb66187243cc3f9da',\n",
    "        'https://newsapi.org/v2/everything?q=america&pageSize=100&apiKey=fb5d0f6add8e4c9cb66187243cc3f9da',\n",
    "        'https://newsapi.org/v2/everything?q=dhoni&pageSize=100&apiKey=fb5d0f6add8e4c9cb66187243cc3f9da',\n",
    "        'https://newsapi.org/v2/everything?q=cricket&pageSize=100&apiKey=fb5d0f6add8e4c9cb66187243cc3f9da',\n",
    "        'https://newsapi.org/v2/everything?q=dance&pageSize=100&apiKey=fb5d0f6add8e4c9cb66187243cc3f9da',\n",
    "        'https://newsapi.org/v2/everything?q=virat&pageSize=100&apiKey=fb5d0f6add8e4c9cb66187243cc3f9da',\n",
    "        'https://newsapi.org/v2/everything?q=modi&pageSize=100&apiKey=fb5d0f6add8e4c9cb66187243cc3f9da',\n",
    "        'https://newsapi.org/v2/everything?q=sports&pageSize=100&apiKey=fb5d0f6add8e4c9cb66187243cc3f9da',\n",
    "        'https://newsapi.org/v2/everything?q=education&pageSize=100&apiKey=fb5d0f6add8e4c9cb66187243cc3f9da',\n",
    "        'https://newsapi.org/v2/everything?q=entertainment&pageSize=100&apiKey=fb5d0f6add8e4c9cb66187243cc3f9da',\n",
    "        'https://newsapi.org/v2/everything?q=football&pageSize=100&apiKey=fb5d0f6add8e4c9cb66187243cc3f9da',\n",
    "        'https://newsapi.org/v2/everything?q=facebook&pageSize=100&apiKey=fb5d0f6add8e4c9cb66187243cc3f9da',\n",
    "        'https://newsapi.org/v2/everything?q=instagram&pageSize=100&apiKey=fb5d0f6add8e4c9cb66187243cc3f9da',\n",
    "        'https://newsapi.org/v2/everything?q=google&pageSize=100&apiKey=fb5d0f6add8e4c9cb66187243cc3f9da',\n",
    "        'https://newsapi.org/v2/everything?q=tcs&pageSize=100&apiKey=fb5d0f6add8e4c9cb66187243cc3f9da',\n",
    "        'https://newsapi.org/v2/everything?q=hcl&pageSize=100&apiKey=fb5d0f6add8e4c9cb66187243cc3f9da',\n",
    "        'https://newsapi.org/v2/everything?q=sensex&pageSize=100&apiKey=fb5d0f6add8e4c9cb66187243cc3f9da',\n",
    "        'https://newsapi.org/v2/everything?q=farmers&pageSize=100&apiKey=fb5d0f6add8e4c9cb66187243cc3f9da',\n",
    "        'https://newsapi.org/v2/everything?q=movies&pageSize=100&apiKey=fb5d0f6add8e4c9cb66187243cc3f9da',\n",
    "        'https://newsapi.org/v2/everything?q=english&pageSize=100&apiKey=fb5d0f6add8e4c9cb66187243cc3f9da',\n",
    "        'https://newsapi.org/v2/everything?q=language&pageSize=100&apiKey=fb5d0f6add8e4c9cb66187243cc3f9da'\n",
    "       ]\n"
   ]
  },
  {
   "cell_type": "code",
   "execution_count": 3,
   "metadata": {},
   "outputs": [],
   "source": [
    "class make_df():\n",
    "    def given(url,keyword):\n",
    "        \n",
    "        # we will be getting the data in json format, so we will be storing this data in a data frame to work.\n",
    "        df = pd.read_json(url)\n",
    "        \n",
    "        # creating a new data frame\n",
    "        new = df['articles']\n",
    "        new = pd.DataFrame(new)\n",
    "        \n",
    "        # inserting new columns \n",
    "        new.insert(1,'source_id','')\n",
    "        new.insert(2,'source_name','')\n",
    "        new.insert(3,'author','')\n",
    "        new.insert(4,'title','')\n",
    "        new.insert(5,'description','')\n",
    "        new.insert(6,'url','')\n",
    "        new.insert(7,'url_to_image','')\n",
    "        new.insert(8,'published_at','')\n",
    "        new.insert(9,'content','')\n",
    "        \n",
    "        # inserting keyword\n",
    "        new.insert(10,'key_word',keyword)\n",
    "        \n",
    "        # filling the blank spaces(in newly inserted columns) in each row by iterating through the new dataframe\n",
    "        for ind in new.index:\n",
    "            new['source_id'][ind] = new['articles'][ind]['source']['id']\n",
    "            new['source_name'][ind] = new['articles'][ind]['source']['name']\n",
    "            new['author'][ind] = new['articles'][ind]['author']\n",
    "            new['title'][ind] = new['articles'][ind]['title']\n",
    "            new['description'][ind] = new['articles'][ind]['description']\n",
    "            new['url'][ind] = new['articles'][ind]['url']\n",
    "            new['url_to_image'][ind] = new['articles'][ind]['urlToImage']\n",
    "            new['published_at'][ind] = new['articles'][ind]['publishedAt']\n",
    "            new['content'][ind] = new['articles'][ind]['content']  \n",
    "        \n",
    "        # dropping the 'articles' column\n",
    "        new = new.drop(['articles'],axis=1)\n",
    "        \n",
    "        return new\n"
   ]
  },
  {
   "cell_type": "code",
   "execution_count": 4,
   "metadata": {},
   "outputs": [],
   "source": [
    "# creating an empty dataframe\n",
    "final_df = pd.DataFrame()\n",
    "\n",
    "# iterating through all urls\n",
    "for i in range(len(urls)):\n",
    "    final_df = final_df.append(make_df.given(urls[i],keywords[i]))"
   ]
  },
  {
   "cell_type": "code",
   "execution_count": 6,
   "metadata": {},
   "outputs": [
    {
     "data": {
      "text/plain": [
       "(2100, 10)"
      ]
     },
     "execution_count": 6,
     "metadata": {},
     "output_type": "execute_result"
    }
   ],
   "source": [
    "final_df.shape"
   ]
  },
  {
   "cell_type": "code",
   "execution_count": 7,
   "metadata": {},
   "outputs": [
    {
     "data": {
      "text/plain": [
       "source_id       997\n",
       "source_name       0\n",
       "author          192\n",
       "title             0\n",
       "description       0\n",
       "url               0\n",
       "url_to_image     37\n",
       "published_at      0\n",
       "content           0\n",
       "key_word          0\n",
       "dtype: int64"
      ]
     },
     "execution_count": 7,
     "metadata": {},
     "output_type": "execute_result"
    }
   ],
   "source": [
    "# check for null values\n",
    "final_df.isnull().sum()"
   ]
  },
  {
   "cell_type": "code",
   "execution_count": 68,
   "metadata": {},
   "outputs": [],
   "source": [
    "# dropping all the rows which are having null values\n",
    "new_df = final_df.dropna(axis =0)\n",
    "new_df.reset_index(drop=True, inplace=True)\n"
   ]
  },
  {
   "cell_type": "code",
   "execution_count": 69,
   "metadata": {},
   "outputs": [
    {
     "data": {
      "text/plain": [
       "(1031, 10)"
      ]
     },
     "execution_count": 69,
     "metadata": {},
     "output_type": "execute_result"
    }
   ],
   "source": [
    "new_df.shape"
   ]
  },
  {
   "cell_type": "code",
   "execution_count": 70,
   "metadata": {},
   "outputs": [
    {
     "data": {
      "text/plain": [
       "source_id       0\n",
       "source_name     0\n",
       "author          0\n",
       "title           0\n",
       "description     0\n",
       "url             0\n",
       "url_to_image    0\n",
       "published_at    0\n",
       "content         0\n",
       "key_word        0\n",
       "dtype: int64"
      ]
     },
     "execution_count": 70,
     "metadata": {},
     "output_type": "execute_result"
    }
   ],
   "source": [
    "new_df.isnull().sum()"
   ]
  },
  {
   "cell_type": "code",
   "execution_count": 71,
   "metadata": {},
   "outputs": [
    {
     "data": {
      "text/html": [
       "<div>\n",
       "<style scoped>\n",
       "    .dataframe tbody tr th:only-of-type {\n",
       "        vertical-align: middle;\n",
       "    }\n",
       "\n",
       "    .dataframe tbody tr th {\n",
       "        vertical-align: top;\n",
       "    }\n",
       "\n",
       "    .dataframe thead th {\n",
       "        text-align: right;\n",
       "    }\n",
       "</style>\n",
       "<table border=\"1\" class=\"dataframe\">\n",
       "  <thead>\n",
       "    <tr style=\"text-align: right;\">\n",
       "      <th></th>\n",
       "      <th>source_id</th>\n",
       "      <th>source_name</th>\n",
       "      <th>author</th>\n",
       "      <th>title</th>\n",
       "      <th>description</th>\n",
       "      <th>url</th>\n",
       "      <th>url_to_image</th>\n",
       "      <th>published_at</th>\n",
       "      <th>content</th>\n",
       "      <th>key_word</th>\n",
       "    </tr>\n",
       "  </thead>\n",
       "  <tbody>\n",
       "    <tr>\n",
       "      <th>0</th>\n",
       "      <td>the-verge</td>\n",
       "      <td>The Verge</td>\n",
       "      <td>Adi Robertson</td>\n",
       "      <td>India will reportedly introduce bill to make o...</td>\n",
       "      <td>India’s legislature is reportedly considering ...</td>\n",
       "      <td>https://www.theverge.com/2021/3/15/22332677/in...</td>\n",
       "      <td>https://cdn.vox-cdn.com/thumbor/IdgNJaOIQBsN8Q...</td>\n",
       "      <td>2021-03-15T22:25:02Z</td>\n",
       "      <td>One of the strictest crackdowns worldwide\\r\\nP...</td>\n",
       "      <td>india</td>\n",
       "    </tr>\n",
       "    <tr>\n",
       "      <th>1</th>\n",
       "      <td>techcrunch</td>\n",
       "      <td>TechCrunch</td>\n",
       "      <td>Manish Singh</td>\n",
       "      <td>Amazon issues rare apology in India over drama...</td>\n",
       "      <td>Amazon on Tuesday issued a rare apology to use...</td>\n",
       "      <td>http://techcrunch.com/2021/03/02/amazon-issues...</td>\n",
       "      <td>https://techcrunch.com/wp-content/uploads/2021...</td>\n",
       "      <td>2021-03-02T18:29:09Z</td>\n",
       "      <td>Amazon on Tuesday issued a rare apology to use...</td>\n",
       "      <td>india</td>\n",
       "    </tr>\n",
       "    <tr>\n",
       "      <th>2</th>\n",
       "      <td>techcrunch</td>\n",
       "      <td>TechCrunch</td>\n",
       "      <td>Manish Singh</td>\n",
       "      <td>Indian beauty e-commerce Purplle raises $45 mi...</td>\n",
       "      <td>Purplle, an e-commerce platform for beauty pro...</td>\n",
       "      <td>http://techcrunch.com/2021/03/22/indian-beauty...</td>\n",
       "      <td>https://techcrunch.com/wp-content/uploads/2021...</td>\n",
       "      <td>2021-03-23T00:08:10Z</td>\n",
       "      <td>Purplle, an e-commerce platform for beauty pro...</td>\n",
       "      <td>india</td>\n",
       "    </tr>\n",
       "    <tr>\n",
       "      <th>3</th>\n",
       "      <td>techcrunch</td>\n",
       "      <td>TechCrunch</td>\n",
       "      <td>Ron Miller</td>\n",
       "      <td>ServiceNow takes RPA plunge by acquiring India...</td>\n",
       "      <td>ServiceNow became the latest company to take t...</td>\n",
       "      <td>http://techcrunch.com/2021/03/23/servicenow-ta...</td>\n",
       "      <td>https://techcrunch.com/wp-content/uploads/2021...</td>\n",
       "      <td>2021-03-23T12:00:48Z</td>\n",
       "      <td>ServiceNow became the latest company to take t...</td>\n",
       "      <td>india</td>\n",
       "    </tr>\n",
       "    <tr>\n",
       "      <th>4</th>\n",
       "      <td>techcrunch</td>\n",
       "      <td>TechCrunch</td>\n",
       "      <td>Natasha Mascarenhas</td>\n",
       "      <td>Veera Health wants to help women in India navi...</td>\n",
       "      <td>Polycystic ovary syndrome, or PCOS, is a commo...</td>\n",
       "      <td>http://techcrunch.com/2021/03/24/veera-health-...</td>\n",
       "      <td>https://techcrunch.com/wp-content/uploads/2019...</td>\n",
       "      <td>2021-03-24T18:07:57Z</td>\n",
       "      <td>Polycystic ovary syndrome, or PCOS, is a commo...</td>\n",
       "      <td>india</td>\n",
       "    </tr>\n",
       "  </tbody>\n",
       "</table>\n",
       "</div>"
      ],
      "text/plain": [
       "    source_id source_name               author  \\\n",
       "0   the-verge   The Verge        Adi Robertson   \n",
       "1  techcrunch  TechCrunch         Manish Singh   \n",
       "2  techcrunch  TechCrunch         Manish Singh   \n",
       "3  techcrunch  TechCrunch           Ron Miller   \n",
       "4  techcrunch  TechCrunch  Natasha Mascarenhas   \n",
       "\n",
       "                                               title  \\\n",
       "0  India will reportedly introduce bill to make o...   \n",
       "1  Amazon issues rare apology in India over drama...   \n",
       "2  Indian beauty e-commerce Purplle raises $45 mi...   \n",
       "3  ServiceNow takes RPA plunge by acquiring India...   \n",
       "4  Veera Health wants to help women in India navi...   \n",
       "\n",
       "                                         description  \\\n",
       "0  India’s legislature is reportedly considering ...   \n",
       "1  Amazon on Tuesday issued a rare apology to use...   \n",
       "2  Purplle, an e-commerce platform for beauty pro...   \n",
       "3  ServiceNow became the latest company to take t...   \n",
       "4  Polycystic ovary syndrome, or PCOS, is a commo...   \n",
       "\n",
       "                                                 url  \\\n",
       "0  https://www.theverge.com/2021/3/15/22332677/in...   \n",
       "1  http://techcrunch.com/2021/03/02/amazon-issues...   \n",
       "2  http://techcrunch.com/2021/03/22/indian-beauty...   \n",
       "3  http://techcrunch.com/2021/03/23/servicenow-ta...   \n",
       "4  http://techcrunch.com/2021/03/24/veera-health-...   \n",
       "\n",
       "                                        url_to_image          published_at  \\\n",
       "0  https://cdn.vox-cdn.com/thumbor/IdgNJaOIQBsN8Q...  2021-03-15T22:25:02Z   \n",
       "1  https://techcrunch.com/wp-content/uploads/2021...  2021-03-02T18:29:09Z   \n",
       "2  https://techcrunch.com/wp-content/uploads/2021...  2021-03-23T00:08:10Z   \n",
       "3  https://techcrunch.com/wp-content/uploads/2021...  2021-03-23T12:00:48Z   \n",
       "4  https://techcrunch.com/wp-content/uploads/2019...  2021-03-24T18:07:57Z   \n",
       "\n",
       "                                             content key_word  \n",
       "0  One of the strictest crackdowns worldwide\\r\\nP...    india  \n",
       "1  Amazon on Tuesday issued a rare apology to use...    india  \n",
       "2  Purplle, an e-commerce platform for beauty pro...    india  \n",
       "3  ServiceNow became the latest company to take t...    india  \n",
       "4  Polycystic ovary syndrome, or PCOS, is a commo...    india  "
      ]
     },
     "execution_count": 71,
     "metadata": {},
     "output_type": "execute_result"
    }
   ],
   "source": [
    "new_df.head()"
   ]
  },
  {
   "cell_type": "code",
   "execution_count": 73,
   "metadata": {},
   "outputs": [],
   "source": [
    "new_df.to_csv('news.csv')"
   ]
  },
  {
   "cell_type": "code",
   "execution_count": null,
   "metadata": {},
   "outputs": [],
   "source": []
  },
  {
   "cell_type": "code",
   "execution_count": null,
   "metadata": {},
   "outputs": [],
   "source": []
  }
 ],
 "metadata": {
  "kernelspec": {
   "display_name": "Python 3",
   "language": "python",
   "name": "python3"
  },
  "language_info": {
   "codemirror_mode": {
    "name": "ipython",
    "version": 3
   },
   "file_extension": ".py",
   "mimetype": "text/x-python",
   "name": "python",
   "nbconvert_exporter": "python",
   "pygments_lexer": "ipython3",
   "version": "3.8.3"
  }
 },
 "nbformat": 4,
 "nbformat_minor": 4
}
